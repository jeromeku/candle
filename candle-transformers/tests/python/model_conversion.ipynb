{
 "cells": [
  {
   "cell_type": "code",
   "execution_count": 78,
   "metadata": {},
   "outputs": [
    {
     "name": "stdout",
     "output_type": "stream",
     "text": [
      "The autoreload extension is already loaded. To reload it, use:\n",
      "  %reload_ext autoreload\n"
     ]
    }
   ],
   "source": [
    "#Enable multiple outputs per cell\n",
    "from IPython.core.interactiveshell import InteractiveShell\n",
    "InteractiveShell.ast_node_interactivity = 'all'\n",
    "\n",
    "#Autoreload imported modules\n",
    "%load_ext autoreload\n",
    "%autoreload 2"
   ]
  },
  {
   "cell_type": "markdown",
   "metadata": {},
   "source": [
    "### Test HF Hub Search functions"
   ]
  },
  {
   "cell_type": "code",
   "execution_count": 60,
   "metadata": {},
   "outputs": [],
   "source": [
    "\n",
    "MISTRAL_REPO = \"mistralai/Mistral-7B-v0.1\"\n",
    "CANDLE_MISTRAL_REPO = \"lmz/candle-mistral\"\n",
    "ZEPHYR_REPO = \"HuggingFaceH4/zephyr-7b-alpha\"\n",
    "DINOV2_REPO = \"facebook/dinov2-base\"\n"
   ]
  },
  {
   "cell_type": "code",
   "execution_count": 3,
   "metadata": {},
   "outputs": [
    {
     "name": "stderr",
     "output_type": "stream",
     "text": [
      "/notebooks/virtualenvs/neurips/lib/python3.9/site-packages/tqdm/auto.py:21: TqdmWarning: IProgress not found. Please update jupyter and ipywidgets. See https://ipywidgets.readthedocs.io/en/stable/user_install.html\n",
      "  from .autonotebook import tqdm as notebook_tqdm\n"
     ]
    }
   ],
   "source": [
    "from functools import partial\n",
    "\n",
    "from model_checking import find_pytorch_index, find_safetensor_files, find_safetensors_index\n",
    "\n",
    "def test_search_func(*, func, repo, expected):\n",
    "    found_files = func(repo)\n",
    "    assert len(found_files) == expected\n",
    "    return found_files\n",
    "\n",
    "test_pytorch_index = partial(test_search_func, func=find_pytorch_index)\n",
    "test_safetensors_index = partial(test_search_func, func=find_safetensors_index)\n",
    "test_safetensor_files = partial(test_search_func, func=find_safetensor_files)\n",
    "\n"
   ]
  },
  {
   "cell_type": "code",
   "execution_count": 4,
   "metadata": {},
   "outputs": [
    {
     "data": {
      "text/plain": [
       "['mistralai/Mistral-7B-v0.1/pytorch_model.bin.index.json']"
      ]
     },
     "execution_count": 4,
     "metadata": {},
     "output_type": "execute_result"
    },
    {
     "data": {
      "text/plain": [
       "[]"
      ]
     },
     "execution_count": 4,
     "metadata": {},
     "output_type": "execute_result"
    },
    {
     "data": {
      "text/plain": [
       "[]"
      ]
     },
     "execution_count": 4,
     "metadata": {},
     "output_type": "execute_result"
    }
   ],
   "source": [
    "test_pytorch_index(repo=MISTRAL_REPO, expected=1)\n",
    "test_safetensors_index(repo=MISTRAL_REPO, expected=0)\n",
    "test_safetensor_files(repo=MISTRAL_REPO, expected=0)\n"
   ]
  },
  {
   "cell_type": "code",
   "execution_count": 5,
   "metadata": {},
   "outputs": [
    {
     "data": {
      "text/plain": [
       "[]"
      ]
     },
     "execution_count": 5,
     "metadata": {},
     "output_type": "execute_result"
    },
    {
     "data": {
      "text/plain": [
       "[]"
      ]
     },
     "execution_count": 5,
     "metadata": {},
     "output_type": "execute_result"
    },
    {
     "data": {
      "text/plain": [
       "['lmz/candle-mistral/pytorch_model-00001-of-00002.safetensors',\n",
       " 'lmz/candle-mistral/pytorch_model-00002-of-00002.safetensors']"
      ]
     },
     "execution_count": 5,
     "metadata": {},
     "output_type": "execute_result"
    }
   ],
   "source": [
    "test_pytorch_index(repo=CANDLE_MISTRAL_REPO, expected=0)\n",
    "test_safetensors_index(repo=CANDLE_MISTRAL_REPO, expected=0)\n",
    "test_safetensor_files(repo=CANDLE_MISTRAL_REPO, expected=2)\n"
   ]
  },
  {
   "cell_type": "code",
   "execution_count": 6,
   "metadata": {},
   "outputs": [
    {
     "data": {
      "text/plain": [
       "['HuggingFaceH4/zephyr-7b-alpha/pytorch_model.bin.index.json']"
      ]
     },
     "execution_count": 6,
     "metadata": {},
     "output_type": "execute_result"
    },
    {
     "data": {
      "text/plain": [
       "['HuggingFaceH4/zephyr-7b-alpha/model.safetensors.index.json']"
      ]
     },
     "execution_count": 6,
     "metadata": {},
     "output_type": "execute_result"
    },
    {
     "data": {
      "text/plain": [
       "['HuggingFaceH4/zephyr-7b-alpha/model-00001-of-00008.safetensors',\n",
       " 'HuggingFaceH4/zephyr-7b-alpha/model-00002-of-00008.safetensors',\n",
       " 'HuggingFaceH4/zephyr-7b-alpha/model-00003-of-00008.safetensors',\n",
       " 'HuggingFaceH4/zephyr-7b-alpha/model-00004-of-00008.safetensors',\n",
       " 'HuggingFaceH4/zephyr-7b-alpha/model-00005-of-00008.safetensors',\n",
       " 'HuggingFaceH4/zephyr-7b-alpha/model-00006-of-00008.safetensors',\n",
       " 'HuggingFaceH4/zephyr-7b-alpha/model-00007-of-00008.safetensors',\n",
       " 'HuggingFaceH4/zephyr-7b-alpha/model-00008-of-00008.safetensors']"
      ]
     },
     "execution_count": 6,
     "metadata": {},
     "output_type": "execute_result"
    }
   ],
   "source": [
    "test_pytorch_index(repo=ZEPHYR_REPO, expected=1)\n",
    "test_safetensors_index(repo=ZEPHYR_REPO, expected=1)\n",
    "test_safetensor_files(repo=ZEPHYR_REPO, expected=8)\n"
   ]
  },
  {
   "cell_type": "markdown",
   "metadata": {},
   "source": [
    "### Test Safe Tensor Index Download"
   ]
  },
  {
   "cell_type": "code",
   "execution_count": 7,
   "metadata": {},
   "outputs": [],
   "source": [
    "from model_checking import get_safetensor_index\n",
    "\n",
    "def test_safetensor_index_download(repo):\n",
    "    index = get_safetensor_index(repo)\n",
    "    assert 'metadata' in index\n",
    "    assert 'weight_map' in index\n",
    "    return index\n",
    "\n",
    "zephyr_index = test_safetensor_index_download(repo=ZEPHYR_REPO)"
   ]
  },
  {
   "cell_type": "markdown",
   "metadata": {},
   "source": [
    "### Test Safe Tensor Headers\n",
    "- Parses safetensor files for headers from HF Hub\n",
    "- Returns aggregated tensors as a dict with tensor names as keys and shapes and dtypes as values "
   ]
  },
  {
   "cell_type": "code",
   "execution_count": 8,
   "metadata": {},
   "outputs": [],
   "source": [
    "from model_checking import get_safetensor_headers\n",
    "\n",
    "def test_safetensor_header_parsing(repo, expected_num_tensors: int):\n",
    "    headers = get_safetensor_headers(repo, merge=True)\n",
    "    if '__metadata__' in headers:\n",
    "        headers.pop('__metadata__')\n",
    "    assert len(headers) == expected_num_tensors"
   ]
  },
  {
   "cell_type": "code",
   "execution_count": 10,
   "metadata": {},
   "outputs": [],
   "source": [
    "EXPECTED_MISTRAL_TENSORS = 291\n",
    "test_safetensor_header_parsing(repo=CANDLE_MISTRAL_REPO, expected_num_tensors=EXPECTED_MISTRAL_TENSORS)\n",
    "test_safetensor_header_parsing(repo=ZEPHYR_REPO, expected_num_tensors=EXPECTED_MISTRAL_TENSORS)"
   ]
  },
  {
   "cell_type": "markdown",
   "metadata": {},
   "source": [
    "### Test the pytorch to safetensors conversion"
   ]
  },
  {
   "cell_type": "code",
   "execution_count": 14,
   "metadata": {},
   "outputs": [],
   "source": [
    "from model_checking import convert_pytorch_to_safetensors\n",
    "\n",
    "def test_pt_conversion(repo, outdir):\n",
    "    import os\n",
    "    from pathlib import Path\n",
    "    import shutil\n",
    "    from safetensors.torch import load_file\n",
    "    import torch\n",
    "    \n",
    "    if os.path.exists(outdir):\n",
    "        shutil.rmtree(outdir)\n",
    "    _ = convert_pytorch_to_safetensors(repo, outdir=outdir, force=True, upload_to_hub=False)\n",
    "    \n",
    "    assert os.path.exists(outdir)\n",
    "    \n",
    "    safetensor_files = sorted(os.listdir(outdir))\n",
    "    \n",
    "    modelname = os.path.basename(repo)\n",
    "    cached_model_path = Path(\"~/.cache/huggingface/hub\").expanduser()\n",
    "    pt_files = cached_model_path.glob(f\"models*{modelname}*/**/pytorch_model*.bin\")\n",
    "    pt_files = sorted([f.as_posix() for f in pt_files])\n",
    "    assert len(safetensor_files) == len(pt_files)\n",
    "    \n",
    "    for pt, st in zip(pt_files, safetensor_files):\n",
    "        pt_weight_map = torch.load(pt)\n",
    "        safetensor_weight_map = load_file(os.path.join(outdir, st))\n",
    "        assert len(pt_weight_map) == len(safetensor_weight_map)\n",
    "        assert pt_weight_map.keys() == safetensor_weight_map.keys()\n",
    "            "
   ]
  },
  {
   "cell_type": "code",
   "execution_count": 15,
   "metadata": {},
   "outputs": [
    {
     "name": "stderr",
     "output_type": "stream",
     "text": [
      "Converting PyTorch files to SafenTensor format: 100%|██████████| 8/8 [00:27<00:00,  3.38s/it]\n"
     ]
    },
    {
     "name": "stdout",
     "output_type": "stream",
     "text": [
      "Saved safetensors to zephyr\n"
     ]
    }
   ],
   "source": [
    "test_pt_conversion(ZEPHYR_REPO, outdir=\"zephyr\")"
   ]
  },
  {
   "cell_type": "code",
   "execution_count": 16,
   "metadata": {},
   "outputs": [
    {
     "name": "stderr",
     "output_type": "stream",
     "text": [
      "Converting PyTorch files to SafenTensor format: 100%|██████████| 1/1 [00:00<00:00,  2.13it/s]"
     ]
    },
    {
     "name": "stdout",
     "output_type": "stream",
     "text": [
      "Saved safetensors to dinov2\n"
     ]
    },
    {
     "name": "stderr",
     "output_type": "stream",
     "text": [
      "\n"
     ]
    }
   ],
   "source": [
    "test_pt_conversion(DINOV2_REPO, outdir=\"dinov2\")"
   ]
  },
  {
   "cell_type": "code",
   "execution_count": 13,
   "metadata": {},
   "outputs": [],
   "source": [
    "from model_checking import _upload_to_hub\n",
    "from huggingface_hub import HfApi\n",
    "\n",
    "def test_model_upload(repo_id, upload_folder):\n",
    "    _upload_to_hub(upload_folder, repo_id)\n",
    "\n",
    "repo_id = \"jeromeku/test-upload\"\n",
    "upload_folder = 'dinov2'\n",
    "api = HfApi()"
   ]
  },
  {
   "cell_type": "code",
   "execution_count": 14,
   "metadata": {},
   "outputs": [],
   "source": [
    "_upload_to_hub(upload_folder, repo_id)\n",
    "assert api.repo_exists(repo_id)"
   ]
  },
  {
   "cell_type": "markdown",
   "metadata": {},
   "source": [
    "### Test model trace checking"
   ]
  },
  {
   "cell_type": "code",
   "execution_count": null,
   "metadata": {},
   "outputs": [],
   "source": [
    "\n",
    "from model_checking import parse_trace, get_safetensor_headers\n",
    "\n",
    "mistral_trace_path = '../fixtures/mistral.trace.json'\n",
    "mistral_traces = parse_trace(mistral_trace_path)\n",
    "mistral_tensor_map = get_safetensor_headers(CANDLE_MISTRAL_REPO)\n",
    "\n",
    "assert len(set(mistral_tensor_map.keys()).symmetric_difference(mistral_traces.keys())) == 0\n"
   ]
  },
  {
   "cell_type": "code",
   "execution_count": 117,
   "metadata": {},
   "outputs": [
    {
     "name": "stdout",
     "output_type": "stream",
     "text": [
      "{'dtype': 'BF16', 'shape': [32000, 4096], 'data_offsets': [0, 262144000]} {'shape': [32000, 4096], 'dtype': 'f32'}\n",
      "{'dtype': 'BF16', 'shape': [32000, 4096], 'data_offsets': [0, 262144000]} {'shape': [32000, 4096], 'dtype': 'f32'}\n",
      "{'dtype': 'BF16', 'shape': [4096], 'data_offsets': [262144000, 262152192]} {'shape': [4096], 'dtype': 'f32'}\n",
      "{'dtype': 'BF16', 'shape': [4096, 14336], 'data_offsets': [262152192, 379592704]} {'shape': [4096, 14336], 'dtype': 'f32'}\n",
      "{'dtype': 'BF16', 'shape': [14336, 4096], 'data_offsets': [379592704, 497033216]} {'shape': [14336, 4096], 'dtype': 'f32'}\n",
      "{'dtype': 'BF16', 'shape': [14336, 4096], 'data_offsets': [497033216, 614473728]} {'shape': [14336, 4096], 'dtype': 'f32'}\n",
      "{'dtype': 'BF16', 'shape': [4096], 'data_offsets': [614473728, 614481920]} {'shape': [4096], 'dtype': 'f32'}\n",
      "{'dtype': 'BF16', 'shape': [1024, 4096], 'data_offsets': [614481920, 622870528]} {'shape': [1024, 4096], 'dtype': 'f32'}\n",
      "{'dtype': 'BF16', 'shape': [4096, 4096], 'data_offsets': [622870528, 656424960]} {'shape': [4096, 4096], 'dtype': 'f32'}\n",
      "{'dtype': 'BF16', 'shape': [4096, 4096], 'data_offsets': [656424960, 689979392]} {'shape': [4096, 4096], 'dtype': 'f32'}\n",
      "{'dtype': 'BF16', 'shape': [1024, 4096], 'data_offsets': [689979392, 698368000]} {'shape': [1024, 4096], 'dtype': 'f32'}\n",
      "{'dtype': 'BF16', 'shape': [4096], 'data_offsets': [698368000, 698376192]} {'shape': [4096], 'dtype': 'f32'}\n",
      "{'dtype': 'BF16', 'shape': [4096, 14336], 'data_offsets': [698376192, 815816704]} {'shape': [4096, 14336], 'dtype': 'f32'}\n",
      "{'dtype': 'BF16', 'shape': [14336, 4096], 'data_offsets': [815816704, 933257216]} {'shape': [14336, 4096], 'dtype': 'f32'}\n",
      "{'dtype': 'BF16', 'shape': [14336, 4096], 'data_offsets': [933257216, 1050697728]} {'shape': [14336, 4096], 'dtype': 'f32'}\n",
      "{'dtype': 'BF16', 'shape': [4096], 'data_offsets': [1050697728, 1050705920]} {'shape': [4096], 'dtype': 'f32'}\n",
      "{'dtype': 'BF16', 'shape': [1024, 4096], 'data_offsets': [1050705920, 1059094528]} {'shape': [1024, 4096], 'dtype': 'f32'}\n",
      "{'dtype': 'BF16', 'shape': [4096, 4096], 'data_offsets': [1059094528, 1092648960]} {'shape': [4096, 4096], 'dtype': 'f32'}\n",
      "{'dtype': 'BF16', 'shape': [4096, 4096], 'data_offsets': [1092648960, 1126203392]} {'shape': [4096, 4096], 'dtype': 'f32'}\n",
      "{'dtype': 'BF16', 'shape': [1024, 4096], 'data_offsets': [1126203392, 1134592000]} {'shape': [1024, 4096], 'dtype': 'f32'}\n",
      "{'dtype': 'BF16', 'shape': [4096], 'data_offsets': [1134592000, 1134600192]} {'shape': [4096], 'dtype': 'f32'}\n",
      "{'dtype': 'BF16', 'shape': [4096, 14336], 'data_offsets': [1134600192, 1252040704]} {'shape': [4096, 14336], 'dtype': 'f32'}\n",
      "{'dtype': 'BF16', 'shape': [14336, 4096], 'data_offsets': [1252040704, 1369481216]} {'shape': [14336, 4096], 'dtype': 'f32'}\n",
      "{'dtype': 'BF16', 'shape': [14336, 4096], 'data_offsets': [1369481216, 1486921728]} {'shape': [14336, 4096], 'dtype': 'f32'}\n",
      "{'dtype': 'BF16', 'shape': [4096], 'data_offsets': [1486921728, 1486929920]} {'shape': [4096], 'dtype': 'f32'}\n",
      "{'dtype': 'BF16', 'shape': [1024, 4096], 'data_offsets': [1486929920, 1495318528]} {'shape': [1024, 4096], 'dtype': 'f32'}\n",
      "{'dtype': 'BF16', 'shape': [4096, 4096], 'data_offsets': [1495318528, 1528872960]} {'shape': [4096, 4096], 'dtype': 'f32'}\n",
      "{'dtype': 'BF16', 'shape': [4096, 4096], 'data_offsets': [1528872960, 1562427392]} {'shape': [4096, 4096], 'dtype': 'f32'}\n",
      "{'dtype': 'BF16', 'shape': [1024, 4096], 'data_offsets': [1562427392, 1570816000]} {'shape': [1024, 4096], 'dtype': 'f32'}\n",
      "{'dtype': 'BF16', 'shape': [4096], 'data_offsets': [1570816000, 1570824192]} {'shape': [4096], 'dtype': 'f32'}\n",
      "{'dtype': 'BF16', 'shape': [4096, 14336], 'data_offsets': [1570824192, 1688264704]} {'shape': [4096, 14336], 'dtype': 'f32'}\n",
      "{'dtype': 'BF16', 'shape': [14336, 4096], 'data_offsets': [1688264704, 1805705216]} {'shape': [14336, 4096], 'dtype': 'f32'}\n",
      "{'dtype': 'BF16', 'shape': [14336, 4096], 'data_offsets': [1805705216, 1923145728]} {'shape': [14336, 4096], 'dtype': 'f32'}\n",
      "{'dtype': 'BF16', 'shape': [4096], 'data_offsets': [1923145728, 1923153920]} {'shape': [4096], 'dtype': 'f32'}\n",
      "{'dtype': 'BF16', 'shape': [1024, 4096], 'data_offsets': [1923153920, 1931542528]} {'shape': [1024, 4096], 'dtype': 'f32'}\n",
      "{'dtype': 'BF16', 'shape': [4096, 4096], 'data_offsets': [1931542528, 1965096960]} {'shape': [4096, 4096], 'dtype': 'f32'}\n",
      "{'dtype': 'BF16', 'shape': [4096, 4096], 'data_offsets': [1965096960, 1998651392]} {'shape': [4096, 4096], 'dtype': 'f32'}\n",
      "{'dtype': 'BF16', 'shape': [1024, 4096], 'data_offsets': [1998651392, 2007040000]} {'shape': [1024, 4096], 'dtype': 'f32'}\n",
      "{'dtype': 'BF16', 'shape': [4096], 'data_offsets': [2007040000, 2007048192]} {'shape': [4096], 'dtype': 'f32'}\n",
      "{'dtype': 'BF16', 'shape': [4096, 14336], 'data_offsets': [2007048192, 2124488704]} {'shape': [4096, 14336], 'dtype': 'f32'}\n",
      "{'dtype': 'BF16', 'shape': [14336, 4096], 'data_offsets': [2124488704, 2241929216]} {'shape': [14336, 4096], 'dtype': 'f32'}\n",
      "{'dtype': 'BF16', 'shape': [14336, 4096], 'data_offsets': [2241929216, 2359369728]} {'shape': [14336, 4096], 'dtype': 'f32'}\n",
      "{'dtype': 'BF16', 'shape': [4096], 'data_offsets': [2359369728, 2359377920]} {'shape': [4096], 'dtype': 'f32'}\n",
      "{'dtype': 'BF16', 'shape': [1024, 4096], 'data_offsets': [2359377920, 2367766528]} {'shape': [1024, 4096], 'dtype': 'f32'}\n",
      "{'dtype': 'BF16', 'shape': [4096, 4096], 'data_offsets': [2367766528, 2401320960]} {'shape': [4096, 4096], 'dtype': 'f32'}\n",
      "{'dtype': 'BF16', 'shape': [4096, 4096], 'data_offsets': [2401320960, 2434875392]} {'shape': [4096, 4096], 'dtype': 'f32'}\n",
      "{'dtype': 'BF16', 'shape': [1024, 4096], 'data_offsets': [2434875392, 2443264000]} {'shape': [1024, 4096], 'dtype': 'f32'}\n",
      "{'dtype': 'BF16', 'shape': [4096], 'data_offsets': [2443264000, 2443272192]} {'shape': [4096], 'dtype': 'f32'}\n",
      "{'dtype': 'BF16', 'shape': [4096, 14336], 'data_offsets': [2443272192, 2560712704]} {'shape': [4096, 14336], 'dtype': 'f32'}\n",
      "{'dtype': 'BF16', 'shape': [14336, 4096], 'data_offsets': [2560712704, 2678153216]} {'shape': [14336, 4096], 'dtype': 'f32'}\n",
      "{'dtype': 'BF16', 'shape': [14336, 4096], 'data_offsets': [2678153216, 2795593728]} {'shape': [14336, 4096], 'dtype': 'f32'}\n",
      "{'dtype': 'BF16', 'shape': [4096], 'data_offsets': [2795593728, 2795601920]} {'shape': [4096], 'dtype': 'f32'}\n",
      "{'dtype': 'BF16', 'shape': [1024, 4096], 'data_offsets': [2795601920, 2803990528]} {'shape': [1024, 4096], 'dtype': 'f32'}\n",
      "{'dtype': 'BF16', 'shape': [4096, 4096], 'data_offsets': [2803990528, 2837544960]} {'shape': [4096, 4096], 'dtype': 'f32'}\n",
      "{'dtype': 'BF16', 'shape': [4096, 4096], 'data_offsets': [2837544960, 2871099392]} {'shape': [4096, 4096], 'dtype': 'f32'}\n",
      "{'dtype': 'BF16', 'shape': [1024, 4096], 'data_offsets': [2871099392, 2879488000]} {'shape': [1024, 4096], 'dtype': 'f32'}\n",
      "{'dtype': 'BF16', 'shape': [4096], 'data_offsets': [2879488000, 2879496192]} {'shape': [4096], 'dtype': 'f32'}\n",
      "{'dtype': 'BF16', 'shape': [4096, 14336], 'data_offsets': [2879496192, 2996936704]} {'shape': [4096, 14336], 'dtype': 'f32'}\n",
      "{'dtype': 'BF16', 'shape': [14336, 4096], 'data_offsets': [2996936704, 3114377216]} {'shape': [14336, 4096], 'dtype': 'f32'}\n",
      "{'dtype': 'BF16', 'shape': [14336, 4096], 'data_offsets': [3114377216, 3231817728]} {'shape': [14336, 4096], 'dtype': 'f32'}\n",
      "{'dtype': 'BF16', 'shape': [4096], 'data_offsets': [3231817728, 3231825920]} {'shape': [4096], 'dtype': 'f32'}\n",
      "{'dtype': 'BF16', 'shape': [1024, 4096], 'data_offsets': [3231825920, 3240214528]} {'shape': [1024, 4096], 'dtype': 'f32'}\n",
      "{'dtype': 'BF16', 'shape': [4096, 4096], 'data_offsets': [3240214528, 3273768960]} {'shape': [4096, 4096], 'dtype': 'f32'}\n",
      "{'dtype': 'BF16', 'shape': [4096, 4096], 'data_offsets': [3273768960, 3307323392]} {'shape': [4096, 4096], 'dtype': 'f32'}\n",
      "{'dtype': 'BF16', 'shape': [1024, 4096], 'data_offsets': [3307323392, 3315712000]} {'shape': [1024, 4096], 'dtype': 'f32'}\n",
      "{'dtype': 'BF16', 'shape': [4096], 'data_offsets': [3315712000, 3315720192]} {'shape': [4096], 'dtype': 'f32'}\n",
      "{'dtype': 'BF16', 'shape': [4096, 14336], 'data_offsets': [3315720192, 3433160704]} {'shape': [4096, 14336], 'dtype': 'f32'}\n",
      "{'dtype': 'BF16', 'shape': [14336, 4096], 'data_offsets': [3433160704, 3550601216]} {'shape': [14336, 4096], 'dtype': 'f32'}\n",
      "{'dtype': 'BF16', 'shape': [14336, 4096], 'data_offsets': [3550601216, 3668041728]} {'shape': [14336, 4096], 'dtype': 'f32'}\n",
      "{'dtype': 'BF16', 'shape': [4096], 'data_offsets': [3668041728, 3668049920]} {'shape': [4096], 'dtype': 'f32'}\n",
      "{'dtype': 'BF16', 'shape': [1024, 4096], 'data_offsets': [3668049920, 3676438528]} {'shape': [1024, 4096], 'dtype': 'f32'}\n",
      "{'dtype': 'BF16', 'shape': [4096, 4096], 'data_offsets': [3676438528, 3709992960]} {'shape': [4096, 4096], 'dtype': 'f32'}\n",
      "{'dtype': 'BF16', 'shape': [4096, 4096], 'data_offsets': [3709992960, 3743547392]} {'shape': [4096, 4096], 'dtype': 'f32'}\n",
      "{'dtype': 'BF16', 'shape': [1024, 4096], 'data_offsets': [3743547392, 3751936000]} {'shape': [1024, 4096], 'dtype': 'f32'}\n",
      "{'dtype': 'BF16', 'shape': [4096], 'data_offsets': [3751936000, 3751944192]} {'shape': [4096], 'dtype': 'f32'}\n",
      "{'dtype': 'BF16', 'shape': [4096, 14336], 'data_offsets': [3751944192, 3869384704]} {'shape': [4096, 14336], 'dtype': 'f32'}\n",
      "{'dtype': 'BF16', 'shape': [14336, 4096], 'data_offsets': [3869384704, 3986825216]} {'shape': [14336, 4096], 'dtype': 'f32'}\n",
      "{'dtype': 'BF16', 'shape': [14336, 4096], 'data_offsets': [3986825216, 4104265728]} {'shape': [14336, 4096], 'dtype': 'f32'}\n",
      "{'dtype': 'BF16', 'shape': [4096], 'data_offsets': [4104265728, 4104273920]} {'shape': [4096], 'dtype': 'f32'}\n",
      "{'dtype': 'BF16', 'shape': [1024, 4096], 'data_offsets': [4104273920, 4112662528]} {'shape': [1024, 4096], 'dtype': 'f32'}\n",
      "{'dtype': 'BF16', 'shape': [4096, 4096], 'data_offsets': [4112662528, 4146216960]} {'shape': [4096, 4096], 'dtype': 'f32'}\n",
      "{'dtype': 'BF16', 'shape': [4096, 4096], 'data_offsets': [4146216960, 4179771392]} {'shape': [4096, 4096], 'dtype': 'f32'}\n",
      "{'dtype': 'BF16', 'shape': [1024, 4096], 'data_offsets': [4179771392, 4188160000]} {'shape': [1024, 4096], 'dtype': 'f32'}\n",
      "{'dtype': 'BF16', 'shape': [4096], 'data_offsets': [4188160000, 4188168192]} {'shape': [4096], 'dtype': 'f32'}\n",
      "{'dtype': 'BF16', 'shape': [4096, 14336], 'data_offsets': [4188168192, 4305608704]} {'shape': [4096, 14336], 'dtype': 'f32'}\n",
      "{'dtype': 'BF16', 'shape': [14336, 4096], 'data_offsets': [4305608704, 4423049216]} {'shape': [14336, 4096], 'dtype': 'f32'}\n",
      "{'dtype': 'BF16', 'shape': [14336, 4096], 'data_offsets': [4423049216, 4540489728]} {'shape': [14336, 4096], 'dtype': 'f32'}\n",
      "{'dtype': 'BF16', 'shape': [4096], 'data_offsets': [4540489728, 4540497920]} {'shape': [4096], 'dtype': 'f32'}\n",
      "{'dtype': 'BF16', 'shape': [1024, 4096], 'data_offsets': [4540497920, 4548886528]} {'shape': [1024, 4096], 'dtype': 'f32'}\n",
      "{'dtype': 'BF16', 'shape': [4096, 4096], 'data_offsets': [4548886528, 4582440960]} {'shape': [4096, 4096], 'dtype': 'f32'}\n",
      "{'dtype': 'BF16', 'shape': [4096, 4096], 'data_offsets': [4582440960, 4615995392]} {'shape': [4096, 4096], 'dtype': 'f32'}\n",
      "{'dtype': 'BF16', 'shape': [1024, 4096], 'data_offsets': [4615995392, 4624384000]} {'shape': [1024, 4096], 'dtype': 'f32'}\n",
      "{'dtype': 'BF16', 'shape': [4096], 'data_offsets': [4624384000, 4624392192]} {'shape': [4096], 'dtype': 'f32'}\n",
      "{'dtype': 'BF16', 'shape': [4096, 14336], 'data_offsets': [4624392192, 4741832704]} {'shape': [4096, 14336], 'dtype': 'f32'}\n",
      "{'dtype': 'BF16', 'shape': [14336, 4096], 'data_offsets': [4741832704, 4859273216]} {'shape': [14336, 4096], 'dtype': 'f32'}\n",
      "{'dtype': 'BF16', 'shape': [14336, 4096], 'data_offsets': [4859273216, 4976713728]} {'shape': [14336, 4096], 'dtype': 'f32'}\n",
      "{'dtype': 'BF16', 'shape': [4096], 'data_offsets': [4976713728, 4976721920]} {'shape': [4096], 'dtype': 'f32'}\n",
      "{'dtype': 'BF16', 'shape': [1024, 4096], 'data_offsets': [4976721920, 4985110528]} {'shape': [1024, 4096], 'dtype': 'f32'}\n",
      "{'dtype': 'BF16', 'shape': [4096, 4096], 'data_offsets': [4985110528, 5018664960]} {'shape': [4096, 4096], 'dtype': 'f32'}\n",
      "{'dtype': 'BF16', 'shape': [4096, 4096], 'data_offsets': [5018664960, 5052219392]} {'shape': [4096, 4096], 'dtype': 'f32'}\n",
      "{'dtype': 'BF16', 'shape': [1024, 4096], 'data_offsets': [5052219392, 5060608000]} {'shape': [1024, 4096], 'dtype': 'f32'}\n",
      "{'dtype': 'BF16', 'shape': [4096], 'data_offsets': [5060608000, 5060616192]} {'shape': [4096], 'dtype': 'f32'}\n",
      "{'dtype': 'BF16', 'shape': [4096, 14336], 'data_offsets': [5060616192, 5178056704]} {'shape': [4096, 14336], 'dtype': 'f32'}\n",
      "{'dtype': 'BF16', 'shape': [14336, 4096], 'data_offsets': [5178056704, 5295497216]} {'shape': [14336, 4096], 'dtype': 'f32'}\n",
      "{'dtype': 'BF16', 'shape': [14336, 4096], 'data_offsets': [5295497216, 5412937728]} {'shape': [14336, 4096], 'dtype': 'f32'}\n",
      "{'dtype': 'BF16', 'shape': [4096], 'data_offsets': [5412937728, 5412945920]} {'shape': [4096], 'dtype': 'f32'}\n",
      "{'dtype': 'BF16', 'shape': [1024, 4096], 'data_offsets': [5412945920, 5421334528]} {'shape': [1024, 4096], 'dtype': 'f32'}\n",
      "{'dtype': 'BF16', 'shape': [4096, 4096], 'data_offsets': [5421334528, 5454888960]} {'shape': [4096, 4096], 'dtype': 'f32'}\n",
      "{'dtype': 'BF16', 'shape': [4096, 4096], 'data_offsets': [5454888960, 5488443392]} {'shape': [4096, 4096], 'dtype': 'f32'}\n",
      "{'dtype': 'BF16', 'shape': [1024, 4096], 'data_offsets': [5488443392, 5496832000]} {'shape': [1024, 4096], 'dtype': 'f32'}\n",
      "{'dtype': 'BF16', 'shape': [4096], 'data_offsets': [5496832000, 5496840192]} {'shape': [4096], 'dtype': 'f32'}\n",
      "{'dtype': 'BF16', 'shape': [4096, 14336], 'data_offsets': [5496840192, 5614280704]} {'shape': [4096, 14336], 'dtype': 'f32'}\n",
      "{'dtype': 'BF16', 'shape': [14336, 4096], 'data_offsets': [5614280704, 5731721216]} {'shape': [14336, 4096], 'dtype': 'f32'}\n",
      "{'dtype': 'BF16', 'shape': [14336, 4096], 'data_offsets': [5731721216, 5849161728]} {'shape': [14336, 4096], 'dtype': 'f32'}\n",
      "{'dtype': 'BF16', 'shape': [4096], 'data_offsets': [5849161728, 5849169920]} {'shape': [4096], 'dtype': 'f32'}\n",
      "{'dtype': 'BF16', 'shape': [1024, 4096], 'data_offsets': [5849169920, 5857558528]} {'shape': [1024, 4096], 'dtype': 'f32'}\n",
      "{'dtype': 'BF16', 'shape': [4096, 4096], 'data_offsets': [5857558528, 5891112960]} {'shape': [4096, 4096], 'dtype': 'f32'}\n",
      "{'dtype': 'BF16', 'shape': [4096, 4096], 'data_offsets': [5891112960, 5924667392]} {'shape': [4096, 4096], 'dtype': 'f32'}\n",
      "{'dtype': 'BF16', 'shape': [1024, 4096], 'data_offsets': [5924667392, 5933056000]} {'shape': [1024, 4096], 'dtype': 'f32'}\n",
      "{'dtype': 'BF16', 'shape': [4096], 'data_offsets': [5933056000, 5933064192]} {'shape': [4096], 'dtype': 'f32'}\n",
      "{'dtype': 'BF16', 'shape': [4096, 14336], 'data_offsets': [5933064192, 6050504704]} {'shape': [4096, 14336], 'dtype': 'f32'}\n",
      "{'dtype': 'BF16', 'shape': [14336, 4096], 'data_offsets': [6050504704, 6167945216]} {'shape': [14336, 4096], 'dtype': 'f32'}\n",
      "{'dtype': 'BF16', 'shape': [14336, 4096], 'data_offsets': [6167945216, 6285385728]} {'shape': [14336, 4096], 'dtype': 'f32'}\n",
      "{'dtype': 'BF16', 'shape': [4096], 'data_offsets': [6285385728, 6285393920]} {'shape': [4096], 'dtype': 'f32'}\n",
      "{'dtype': 'BF16', 'shape': [1024, 4096], 'data_offsets': [6285393920, 6293782528]} {'shape': [1024, 4096], 'dtype': 'f32'}\n",
      "{'dtype': 'BF16', 'shape': [4096, 4096], 'data_offsets': [6293782528, 6327336960]} {'shape': [4096, 4096], 'dtype': 'f32'}\n",
      "{'dtype': 'BF16', 'shape': [4096, 4096], 'data_offsets': [6327336960, 6360891392]} {'shape': [4096, 4096], 'dtype': 'f32'}\n",
      "{'dtype': 'BF16', 'shape': [1024, 4096], 'data_offsets': [6360891392, 6369280000]} {'shape': [1024, 4096], 'dtype': 'f32'}\n",
      "{'dtype': 'BF16', 'shape': [4096], 'data_offsets': [6369280000, 6369288192]} {'shape': [4096], 'dtype': 'f32'}\n",
      "{'dtype': 'BF16', 'shape': [4096, 14336], 'data_offsets': [6369288192, 6486728704]} {'shape': [4096, 14336], 'dtype': 'f32'}\n",
      "{'dtype': 'BF16', 'shape': [14336, 4096], 'data_offsets': [6486728704, 6604169216]} {'shape': [14336, 4096], 'dtype': 'f32'}\n",
      "{'dtype': 'BF16', 'shape': [14336, 4096], 'data_offsets': [6604169216, 6721609728]} {'shape': [14336, 4096], 'dtype': 'f32'}\n",
      "{'dtype': 'BF16', 'shape': [4096], 'data_offsets': [6721609728, 6721617920]} {'shape': [4096], 'dtype': 'f32'}\n",
      "{'dtype': 'BF16', 'shape': [1024, 4096], 'data_offsets': [6721617920, 6730006528]} {'shape': [1024, 4096], 'dtype': 'f32'}\n",
      "{'dtype': 'BF16', 'shape': [4096, 4096], 'data_offsets': [6730006528, 6763560960]} {'shape': [4096, 4096], 'dtype': 'f32'}\n",
      "{'dtype': 'BF16', 'shape': [4096, 4096], 'data_offsets': [6763560960, 6797115392]} {'shape': [4096, 4096], 'dtype': 'f32'}\n",
      "{'dtype': 'BF16', 'shape': [1024, 4096], 'data_offsets': [6797115392, 6805504000]} {'shape': [1024, 4096], 'dtype': 'f32'}\n",
      "{'dtype': 'BF16', 'shape': [4096], 'data_offsets': [262144000, 262152192]} {'shape': [4096], 'dtype': 'f32'}\n",
      "{'dtype': 'BF16', 'shape': [4096, 14336], 'data_offsets': [262152192, 379592704]} {'shape': [4096, 14336], 'dtype': 'f32'}\n",
      "{'dtype': 'BF16', 'shape': [14336, 4096], 'data_offsets': [379592704, 497033216]} {'shape': [14336, 4096], 'dtype': 'f32'}\n",
      "{'dtype': 'BF16', 'shape': [14336, 4096], 'data_offsets': [497033216, 614473728]} {'shape': [14336, 4096], 'dtype': 'f32'}\n",
      "{'dtype': 'BF16', 'shape': [4096], 'data_offsets': [614473728, 614481920]} {'shape': [4096], 'dtype': 'f32'}\n",
      "{'dtype': 'BF16', 'shape': [1024, 4096], 'data_offsets': [6805504000, 6813892608]} {'shape': [1024, 4096], 'dtype': 'f32'}\n",
      "{'dtype': 'BF16', 'shape': [4096, 4096], 'data_offsets': [6813892608, 6847447040]} {'shape': [4096, 4096], 'dtype': 'f32'}\n",
      "{'dtype': 'BF16', 'shape': [4096, 4096], 'data_offsets': [6847447040, 6881001472]} {'shape': [4096, 4096], 'dtype': 'f32'}\n",
      "{'dtype': 'BF16', 'shape': [1024, 4096], 'data_offsets': [6881001472, 6889390080]} {'shape': [1024, 4096], 'dtype': 'f32'}\n",
      "{'dtype': 'BF16', 'shape': [4096], 'data_offsets': [614481920, 614490112]} {'shape': [4096], 'dtype': 'f32'}\n",
      "{'dtype': 'BF16', 'shape': [4096, 14336], 'data_offsets': [614490112, 731930624]} {'shape': [4096, 14336], 'dtype': 'f32'}\n",
      "{'dtype': 'BF16', 'shape': [14336, 4096], 'data_offsets': [731930624, 849371136]} {'shape': [14336, 4096], 'dtype': 'f32'}\n",
      "{'dtype': 'BF16', 'shape': [14336, 4096], 'data_offsets': [849371136, 966811648]} {'shape': [14336, 4096], 'dtype': 'f32'}\n",
      "{'dtype': 'BF16', 'shape': [4096], 'data_offsets': [966811648, 966819840]} {'shape': [4096], 'dtype': 'f32'}\n",
      "{'dtype': 'BF16', 'shape': [1024, 4096], 'data_offsets': [966819840, 975208448]} {'shape': [1024, 4096], 'dtype': 'f32'}\n",
      "{'dtype': 'BF16', 'shape': [4096, 4096], 'data_offsets': [975208448, 1008762880]} {'shape': [4096, 4096], 'dtype': 'f32'}\n",
      "{'dtype': 'BF16', 'shape': [4096, 4096], 'data_offsets': [1008762880, 1042317312]} {'shape': [4096, 4096], 'dtype': 'f32'}\n",
      "{'dtype': 'BF16', 'shape': [1024, 4096], 'data_offsets': [1042317312, 1050705920]} {'shape': [1024, 4096], 'dtype': 'f32'}\n",
      "{'dtype': 'BF16', 'shape': [4096], 'data_offsets': [1050705920, 1050714112]} {'shape': [4096], 'dtype': 'f32'}\n",
      "{'dtype': 'BF16', 'shape': [4096, 14336], 'data_offsets': [1050714112, 1168154624]} {'shape': [4096, 14336], 'dtype': 'f32'}\n",
      "{'dtype': 'BF16', 'shape': [14336, 4096], 'data_offsets': [1168154624, 1285595136]} {'shape': [14336, 4096], 'dtype': 'f32'}\n",
      "{'dtype': 'BF16', 'shape': [14336, 4096], 'data_offsets': [1285595136, 1403035648]} {'shape': [14336, 4096], 'dtype': 'f32'}\n",
      "{'dtype': 'BF16', 'shape': [4096], 'data_offsets': [1403035648, 1403043840]} {'shape': [4096], 'dtype': 'f32'}\n",
      "{'dtype': 'BF16', 'shape': [1024, 4096], 'data_offsets': [1403043840, 1411432448]} {'shape': [1024, 4096], 'dtype': 'f32'}\n",
      "{'dtype': 'BF16', 'shape': [4096, 4096], 'data_offsets': [1411432448, 1444986880]} {'shape': [4096, 4096], 'dtype': 'f32'}\n",
      "{'dtype': 'BF16', 'shape': [4096, 4096], 'data_offsets': [1444986880, 1478541312]} {'shape': [4096, 4096], 'dtype': 'f32'}\n",
      "{'dtype': 'BF16', 'shape': [1024, 4096], 'data_offsets': [1478541312, 1486929920]} {'shape': [1024, 4096], 'dtype': 'f32'}\n",
      "{'dtype': 'BF16', 'shape': [4096], 'data_offsets': [1486929920, 1486938112]} {'shape': [4096], 'dtype': 'f32'}\n",
      "{'dtype': 'BF16', 'shape': [4096, 14336], 'data_offsets': [1486938112, 1604378624]} {'shape': [4096, 14336], 'dtype': 'f32'}\n",
      "{'dtype': 'BF16', 'shape': [14336, 4096], 'data_offsets': [1604378624, 1721819136]} {'shape': [14336, 4096], 'dtype': 'f32'}\n",
      "{'dtype': 'BF16', 'shape': [14336, 4096], 'data_offsets': [1721819136, 1839259648]} {'shape': [14336, 4096], 'dtype': 'f32'}\n",
      "{'dtype': 'BF16', 'shape': [4096], 'data_offsets': [1839259648, 1839267840]} {'shape': [4096], 'dtype': 'f32'}\n",
      "{'dtype': 'BF16', 'shape': [1024, 4096], 'data_offsets': [1839267840, 1847656448]} {'shape': [1024, 4096], 'dtype': 'f32'}\n",
      "{'dtype': 'BF16', 'shape': [4096, 4096], 'data_offsets': [1847656448, 1881210880]} {'shape': [4096, 4096], 'dtype': 'f32'}\n",
      "{'dtype': 'BF16', 'shape': [4096, 4096], 'data_offsets': [1881210880, 1914765312]} {'shape': [4096, 4096], 'dtype': 'f32'}\n",
      "{'dtype': 'BF16', 'shape': [1024, 4096], 'data_offsets': [1914765312, 1923153920]} {'shape': [1024, 4096], 'dtype': 'f32'}\n",
      "{'dtype': 'BF16', 'shape': [4096], 'data_offsets': [1923153920, 1923162112]} {'shape': [4096], 'dtype': 'f32'}\n",
      "{'dtype': 'BF16', 'shape': [4096, 14336], 'data_offsets': [1923162112, 2040602624]} {'shape': [4096, 14336], 'dtype': 'f32'}\n",
      "{'dtype': 'BF16', 'shape': [14336, 4096], 'data_offsets': [2040602624, 2158043136]} {'shape': [14336, 4096], 'dtype': 'f32'}\n",
      "{'dtype': 'BF16', 'shape': [14336, 4096], 'data_offsets': [2158043136, 2275483648]} {'shape': [14336, 4096], 'dtype': 'f32'}\n",
      "{'dtype': 'BF16', 'shape': [4096], 'data_offsets': [2275483648, 2275491840]} {'shape': [4096], 'dtype': 'f32'}\n",
      "{'dtype': 'BF16', 'shape': [1024, 4096], 'data_offsets': [2275491840, 2283880448]} {'shape': [1024, 4096], 'dtype': 'f32'}\n",
      "{'dtype': 'BF16', 'shape': [4096, 4096], 'data_offsets': [2283880448, 2317434880]} {'shape': [4096, 4096], 'dtype': 'f32'}\n",
      "{'dtype': 'BF16', 'shape': [4096, 4096], 'data_offsets': [2317434880, 2350989312]} {'shape': [4096, 4096], 'dtype': 'f32'}\n",
      "{'dtype': 'BF16', 'shape': [1024, 4096], 'data_offsets': [2350989312, 2359377920]} {'shape': [1024, 4096], 'dtype': 'f32'}\n",
      "{'dtype': 'BF16', 'shape': [4096], 'data_offsets': [2359377920, 2359386112]} {'shape': [4096], 'dtype': 'f32'}\n",
      "{'dtype': 'BF16', 'shape': [4096, 14336], 'data_offsets': [2359386112, 2476826624]} {'shape': [4096, 14336], 'dtype': 'f32'}\n",
      "{'dtype': 'BF16', 'shape': [14336, 4096], 'data_offsets': [2476826624, 2594267136]} {'shape': [14336, 4096], 'dtype': 'f32'}\n",
      "{'dtype': 'BF16', 'shape': [14336, 4096], 'data_offsets': [2594267136, 2711707648]} {'shape': [14336, 4096], 'dtype': 'f32'}\n",
      "{'dtype': 'BF16', 'shape': [4096], 'data_offsets': [2711707648, 2711715840]} {'shape': [4096], 'dtype': 'f32'}\n",
      "{'dtype': 'BF16', 'shape': [1024, 4096], 'data_offsets': [2711715840, 2720104448]} {'shape': [1024, 4096], 'dtype': 'f32'}\n",
      "{'dtype': 'BF16', 'shape': [4096, 4096], 'data_offsets': [2720104448, 2753658880]} {'shape': [4096, 4096], 'dtype': 'f32'}\n",
      "{'dtype': 'BF16', 'shape': [4096, 4096], 'data_offsets': [2753658880, 2787213312]} {'shape': [4096, 4096], 'dtype': 'f32'}\n",
      "{'dtype': 'BF16', 'shape': [1024, 4096], 'data_offsets': [2787213312, 2795601920]} {'shape': [1024, 4096], 'dtype': 'f32'}\n",
      "{'dtype': 'BF16', 'shape': [4096], 'data_offsets': [2795601920, 2795610112]} {'shape': [4096], 'dtype': 'f32'}\n",
      "{'dtype': 'BF16', 'shape': [4096, 14336], 'data_offsets': [2795610112, 2913050624]} {'shape': [4096, 14336], 'dtype': 'f32'}\n",
      "{'dtype': 'BF16', 'shape': [14336, 4096], 'data_offsets': [2913050624, 3030491136]} {'shape': [14336, 4096], 'dtype': 'f32'}\n",
      "{'dtype': 'BF16', 'shape': [14336, 4096], 'data_offsets': [3030491136, 3147931648]} {'shape': [14336, 4096], 'dtype': 'f32'}\n",
      "{'dtype': 'BF16', 'shape': [4096], 'data_offsets': [3147931648, 3147939840]} {'shape': [4096], 'dtype': 'f32'}\n",
      "{'dtype': 'BF16', 'shape': [1024, 4096], 'data_offsets': [3147939840, 3156328448]} {'shape': [1024, 4096], 'dtype': 'f32'}\n",
      "{'dtype': 'BF16', 'shape': [4096, 4096], 'data_offsets': [3156328448, 3189882880]} {'shape': [4096, 4096], 'dtype': 'f32'}\n",
      "{'dtype': 'BF16', 'shape': [4096, 4096], 'data_offsets': [3189882880, 3223437312]} {'shape': [4096, 4096], 'dtype': 'f32'}\n",
      "{'dtype': 'BF16', 'shape': [1024, 4096], 'data_offsets': [3223437312, 3231825920]} {'shape': [1024, 4096], 'dtype': 'f32'}\n",
      "{'dtype': 'BF16', 'shape': [4096], 'data_offsets': [3231825920, 3231834112]} {'shape': [4096], 'dtype': 'f32'}\n",
      "{'dtype': 'BF16', 'shape': [4096, 14336], 'data_offsets': [3231834112, 3349274624]} {'shape': [4096, 14336], 'dtype': 'f32'}\n",
      "{'dtype': 'BF16', 'shape': [14336, 4096], 'data_offsets': [3349274624, 3466715136]} {'shape': [14336, 4096], 'dtype': 'f32'}\n",
      "{'dtype': 'BF16', 'shape': [14336, 4096], 'data_offsets': [3466715136, 3584155648]} {'shape': [14336, 4096], 'dtype': 'f32'}\n",
      "{'dtype': 'BF16', 'shape': [4096], 'data_offsets': [3584155648, 3584163840]} {'shape': [4096], 'dtype': 'f32'}\n",
      "{'dtype': 'BF16', 'shape': [1024, 4096], 'data_offsets': [3584163840, 3592552448]} {'shape': [1024, 4096], 'dtype': 'f32'}\n",
      "{'dtype': 'BF16', 'shape': [4096, 4096], 'data_offsets': [3592552448, 3626106880]} {'shape': [4096, 4096], 'dtype': 'f32'}\n",
      "{'dtype': 'BF16', 'shape': [4096, 4096], 'data_offsets': [3626106880, 3659661312]} {'shape': [4096, 4096], 'dtype': 'f32'}\n",
      "{'dtype': 'BF16', 'shape': [1024, 4096], 'data_offsets': [3659661312, 3668049920]} {'shape': [1024, 4096], 'dtype': 'f32'}\n",
      "{'dtype': 'BF16', 'shape': [4096], 'data_offsets': [6889390080, 6889398272]} {'shape': [4096], 'dtype': 'f32'}\n",
      "{'dtype': 'BF16', 'shape': [4096, 14336], 'data_offsets': [6889398272, 7006838784]} {'shape': [4096, 14336], 'dtype': 'f32'}\n",
      "{'dtype': 'BF16', 'shape': [14336, 4096], 'data_offsets': [7006838784, 7124279296]} {'shape': [14336, 4096], 'dtype': 'f32'}\n",
      "{'dtype': 'BF16', 'shape': [14336, 4096], 'data_offsets': [7124279296, 7241719808]} {'shape': [14336, 4096], 'dtype': 'f32'}\n",
      "{'dtype': 'BF16', 'shape': [4096], 'data_offsets': [7241719808, 7241728000]} {'shape': [4096], 'dtype': 'f32'}\n",
      "{'dtype': 'BF16', 'shape': [1024, 4096], 'data_offsets': [7241728000, 7250116608]} {'shape': [1024, 4096], 'dtype': 'f32'}\n",
      "{'dtype': 'BF16', 'shape': [4096, 4096], 'data_offsets': [7250116608, 7283671040]} {'shape': [4096, 4096], 'dtype': 'f32'}\n",
      "{'dtype': 'BF16', 'shape': [4096, 4096], 'data_offsets': [7283671040, 7317225472]} {'shape': [4096, 4096], 'dtype': 'f32'}\n",
      "{'dtype': 'BF16', 'shape': [1024, 4096], 'data_offsets': [7317225472, 7325614080]} {'shape': [1024, 4096], 'dtype': 'f32'}\n",
      "{'dtype': 'BF16', 'shape': [4096], 'data_offsets': [3668049920, 3668058112]} {'shape': [4096], 'dtype': 'f32'}\n",
      "{'dtype': 'BF16', 'shape': [4096, 14336], 'data_offsets': [3668058112, 3785498624]} {'shape': [4096, 14336], 'dtype': 'f32'}\n",
      "{'dtype': 'BF16', 'shape': [14336, 4096], 'data_offsets': [3785498624, 3902939136]} {'shape': [14336, 4096], 'dtype': 'f32'}\n",
      "{'dtype': 'BF16', 'shape': [14336, 4096], 'data_offsets': [3902939136, 4020379648]} {'shape': [14336, 4096], 'dtype': 'f32'}\n",
      "{'dtype': 'BF16', 'shape': [4096], 'data_offsets': [4020379648, 4020387840]} {'shape': [4096], 'dtype': 'f32'}\n",
      "{'dtype': 'BF16', 'shape': [1024, 4096], 'data_offsets': [4020387840, 4028776448]} {'shape': [1024, 4096], 'dtype': 'f32'}\n",
      "{'dtype': 'BF16', 'shape': [4096, 4096], 'data_offsets': [4028776448, 4062330880]} {'shape': [4096, 4096], 'dtype': 'f32'}\n",
      "{'dtype': 'BF16', 'shape': [4096, 4096], 'data_offsets': [4062330880, 4095885312]} {'shape': [4096, 4096], 'dtype': 'f32'}\n",
      "{'dtype': 'BF16', 'shape': [1024, 4096], 'data_offsets': [4095885312, 4104273920]} {'shape': [1024, 4096], 'dtype': 'f32'}\n",
      "{'dtype': 'BF16', 'shape': [4096], 'data_offsets': [4104273920, 4104282112]} {'shape': [4096], 'dtype': 'f32'}\n",
      "{'dtype': 'BF16', 'shape': [4096, 14336], 'data_offsets': [4104282112, 4221722624]} {'shape': [4096, 14336], 'dtype': 'f32'}\n",
      "{'dtype': 'BF16', 'shape': [14336, 4096], 'data_offsets': [4221722624, 4339163136]} {'shape': [14336, 4096], 'dtype': 'f32'}\n",
      "{'dtype': 'BF16', 'shape': [14336, 4096], 'data_offsets': [4339163136, 4456603648]} {'shape': [14336, 4096], 'dtype': 'f32'}\n",
      "{'dtype': 'BF16', 'shape': [4096], 'data_offsets': [4456603648, 4456611840]} {'shape': [4096], 'dtype': 'f32'}\n",
      "{'dtype': 'BF16', 'shape': [1024, 4096], 'data_offsets': [4456611840, 4465000448]} {'shape': [1024, 4096], 'dtype': 'f32'}\n",
      "{'dtype': 'BF16', 'shape': [4096, 4096], 'data_offsets': [4465000448, 4498554880]} {'shape': [4096, 4096], 'dtype': 'f32'}\n",
      "{'dtype': 'BF16', 'shape': [4096, 4096], 'data_offsets': [4498554880, 4532109312]} {'shape': [4096, 4096], 'dtype': 'f32'}\n",
      "{'dtype': 'BF16', 'shape': [1024, 4096], 'data_offsets': [4532109312, 4540497920]} {'shape': [1024, 4096], 'dtype': 'f32'}\n",
      "{'dtype': 'BF16', 'shape': [4096], 'data_offsets': [7325614080, 7325622272]} {'shape': [4096], 'dtype': 'f32'}\n",
      "{'dtype': 'BF16', 'shape': [4096, 14336], 'data_offsets': [7325622272, 7443062784]} {'shape': [4096, 14336], 'dtype': 'f32'}\n",
      "{'dtype': 'BF16', 'shape': [14336, 4096], 'data_offsets': [7443062784, 7560503296]} {'shape': [14336, 4096], 'dtype': 'f32'}\n",
      "{'dtype': 'BF16', 'shape': [14336, 4096], 'data_offsets': [7560503296, 7677943808]} {'shape': [14336, 4096], 'dtype': 'f32'}\n",
      "{'dtype': 'BF16', 'shape': [4096], 'data_offsets': [7677943808, 7677952000]} {'shape': [4096], 'dtype': 'f32'}\n",
      "{'dtype': 'BF16', 'shape': [1024, 4096], 'data_offsets': [7677952000, 7686340608]} {'shape': [1024, 4096], 'dtype': 'f32'}\n",
      "{'dtype': 'BF16', 'shape': [4096, 4096], 'data_offsets': [7686340608, 7719895040]} {'shape': [4096, 4096], 'dtype': 'f32'}\n",
      "{'dtype': 'BF16', 'shape': [4096, 4096], 'data_offsets': [7719895040, 7753449472]} {'shape': [4096, 4096], 'dtype': 'f32'}\n",
      "{'dtype': 'BF16', 'shape': [1024, 4096], 'data_offsets': [7753449472, 7761838080]} {'shape': [1024, 4096], 'dtype': 'f32'}\n",
      "{'dtype': 'BF16', 'shape': [4096], 'data_offsets': [7761838080, 7761846272]} {'shape': [4096], 'dtype': 'f32'}\n",
      "{'dtype': 'BF16', 'shape': [4096, 14336], 'data_offsets': [7761846272, 7879286784]} {'shape': [4096, 14336], 'dtype': 'f32'}\n",
      "{'dtype': 'BF16', 'shape': [14336, 4096], 'data_offsets': [7879286784, 7996727296]} {'shape': [14336, 4096], 'dtype': 'f32'}\n",
      "{'dtype': 'BF16', 'shape': [14336, 4096], 'data_offsets': [7996727296, 8114167808]} {'shape': [14336, 4096], 'dtype': 'f32'}\n",
      "{'dtype': 'BF16', 'shape': [4096], 'data_offsets': [8114167808, 8114176000]} {'shape': [4096], 'dtype': 'f32'}\n",
      "{'dtype': 'BF16', 'shape': [1024, 4096], 'data_offsets': [8114176000, 8122564608]} {'shape': [1024, 4096], 'dtype': 'f32'}\n",
      "{'dtype': 'BF16', 'shape': [4096, 4096], 'data_offsets': [8122564608, 8156119040]} {'shape': [4096, 4096], 'dtype': 'f32'}\n",
      "{'dtype': 'BF16', 'shape': [4096, 4096], 'data_offsets': [8156119040, 8189673472]} {'shape': [4096, 4096], 'dtype': 'f32'}\n",
      "{'dtype': 'BF16', 'shape': [1024, 4096], 'data_offsets': [8189673472, 8198062080]} {'shape': [1024, 4096], 'dtype': 'f32'}\n",
      "{'dtype': 'BF16', 'shape': [4096], 'data_offsets': [8198062080, 8198070272]} {'shape': [4096], 'dtype': 'f32'}\n",
      "{'dtype': 'BF16', 'shape': [4096, 14336], 'data_offsets': [8198070272, 8315510784]} {'shape': [4096, 14336], 'dtype': 'f32'}\n",
      "{'dtype': 'BF16', 'shape': [14336, 4096], 'data_offsets': [8315510784, 8432951296]} {'shape': [14336, 4096], 'dtype': 'f32'}\n",
      "{'dtype': 'BF16', 'shape': [14336, 4096], 'data_offsets': [8432951296, 8550391808]} {'shape': [14336, 4096], 'dtype': 'f32'}\n",
      "{'dtype': 'BF16', 'shape': [4096], 'data_offsets': [8550391808, 8550400000]} {'shape': [4096], 'dtype': 'f32'}\n",
      "{'dtype': 'BF16', 'shape': [1024, 4096], 'data_offsets': [8550400000, 8558788608]} {'shape': [1024, 4096], 'dtype': 'f32'}\n",
      "{'dtype': 'BF16', 'shape': [4096, 4096], 'data_offsets': [8558788608, 8592343040]} {'shape': [4096, 4096], 'dtype': 'f32'}\n",
      "{'dtype': 'BF16', 'shape': [4096, 4096], 'data_offsets': [8592343040, 8625897472]} {'shape': [4096, 4096], 'dtype': 'f32'}\n",
      "{'dtype': 'BF16', 'shape': [1024, 4096], 'data_offsets': [8625897472, 8634286080]} {'shape': [1024, 4096], 'dtype': 'f32'}\n",
      "{'dtype': 'BF16', 'shape': [4096], 'data_offsets': [8634286080, 8634294272]} {'shape': [4096], 'dtype': 'f32'}\n",
      "{'dtype': 'BF16', 'shape': [4096, 14336], 'data_offsets': [8634294272, 8751734784]} {'shape': [4096, 14336], 'dtype': 'f32'}\n",
      "{'dtype': 'BF16', 'shape': [14336, 4096], 'data_offsets': [8751734784, 8869175296]} {'shape': [14336, 4096], 'dtype': 'f32'}\n",
      "{'dtype': 'BF16', 'shape': [14336, 4096], 'data_offsets': [8869175296, 8986615808]} {'shape': [14336, 4096], 'dtype': 'f32'}\n",
      "{'dtype': 'BF16', 'shape': [4096], 'data_offsets': [8986615808, 8986624000]} {'shape': [4096], 'dtype': 'f32'}\n",
      "{'dtype': 'BF16', 'shape': [1024, 4096], 'data_offsets': [8986624000, 8995012608]} {'shape': [1024, 4096], 'dtype': 'f32'}\n",
      "{'dtype': 'BF16', 'shape': [4096, 4096], 'data_offsets': [8995012608, 9028567040]} {'shape': [4096, 4096], 'dtype': 'f32'}\n",
      "{'dtype': 'BF16', 'shape': [4096, 4096], 'data_offsets': [9028567040, 9062121472]} {'shape': [4096, 4096], 'dtype': 'f32'}\n",
      "{'dtype': 'BF16', 'shape': [1024, 4096], 'data_offsets': [9062121472, 9070510080]} {'shape': [1024, 4096], 'dtype': 'f32'}\n",
      "{'dtype': 'BF16', 'shape': [4096], 'data_offsets': [9070510080, 9070518272]} {'shape': [4096], 'dtype': 'f32'}\n",
      "{'dtype': 'BF16', 'shape': [4096, 14336], 'data_offsets': [9070518272, 9187958784]} {'shape': [4096, 14336], 'dtype': 'f32'}\n",
      "{'dtype': 'BF16', 'shape': [14336, 4096], 'data_offsets': [9187958784, 9305399296]} {'shape': [14336, 4096], 'dtype': 'f32'}\n",
      "{'dtype': 'BF16', 'shape': [14336, 4096], 'data_offsets': [9305399296, 9422839808]} {'shape': [14336, 4096], 'dtype': 'f32'}\n",
      "{'dtype': 'BF16', 'shape': [4096], 'data_offsets': [9422839808, 9422848000]} {'shape': [4096], 'dtype': 'f32'}\n",
      "{'dtype': 'BF16', 'shape': [1024, 4096], 'data_offsets': [9422848000, 9431236608]} {'shape': [1024, 4096], 'dtype': 'f32'}\n",
      "{'dtype': 'BF16', 'shape': [4096, 4096], 'data_offsets': [9431236608, 9464791040]} {'shape': [4096, 4096], 'dtype': 'f32'}\n",
      "{'dtype': 'BF16', 'shape': [4096, 4096], 'data_offsets': [9464791040, 9498345472]} {'shape': [4096, 4096], 'dtype': 'f32'}\n",
      "{'dtype': 'BF16', 'shape': [1024, 4096], 'data_offsets': [9498345472, 9506734080]} {'shape': [1024, 4096], 'dtype': 'f32'}\n",
      "{'dtype': 'BF16', 'shape': [4096], 'data_offsets': [9506734080, 9506742272]} {'shape': [4096], 'dtype': 'f32'}\n",
      "{'dtype': 'BF16', 'shape': [4096, 14336], 'data_offsets': [9506742272, 9624182784]} {'shape': [4096, 14336], 'dtype': 'f32'}\n",
      "{'dtype': 'BF16', 'shape': [14336, 4096], 'data_offsets': [9624182784, 9741623296]} {'shape': [14336, 4096], 'dtype': 'f32'}\n",
      "{'dtype': 'BF16', 'shape': [14336, 4096], 'data_offsets': [9741623296, 9859063808]} {'shape': [14336, 4096], 'dtype': 'f32'}\n",
      "{'dtype': 'BF16', 'shape': [4096], 'data_offsets': [9859063808, 9859072000]} {'shape': [4096], 'dtype': 'f32'}\n",
      "{'dtype': 'BF16', 'shape': [1024, 4096], 'data_offsets': [9859072000, 9867460608]} {'shape': [1024, 4096], 'dtype': 'f32'}\n",
      "{'dtype': 'BF16', 'shape': [4096, 4096], 'data_offsets': [9867460608, 9901015040]} {'shape': [4096, 4096], 'dtype': 'f32'}\n",
      "{'dtype': 'BF16', 'shape': [4096, 4096], 'data_offsets': [9901015040, 9934569472]} {'shape': [4096, 4096], 'dtype': 'f32'}\n",
      "{'dtype': 'BF16', 'shape': [1024, 4096], 'data_offsets': [9934569472, 9942958080]} {'shape': [1024, 4096], 'dtype': 'f32'}\n",
      "{'dtype': 'BF16', 'shape': [4096], 'data_offsets': [4540497920, 4540506112]} {'shape': [4096], 'dtype': 'f32'}\n"
     ]
    }
   ],
   "source": [
    "for m, mtrace in zip(mistral_tensor_map.values(), mistral_traces.values()):\n",
    "    if m['shape'] != mtrace['shape']:\n",
    "        print(m, mtrace)\n",
    "    if m['dtype'] != mtrace['dtype']:\n",
    "        print(m, mtrace)\n",
    "#assert all(m['dtype'] == mtrace['dtype'] for m, mtrace in zip(mistral_tensor_map.values(), mistral_traces.values()))\n",
    "#assert all(m['dtype'] == mtrace['dtype'] for m, mtrace in zip(mistral_tensor_map.values(), mistral_traces.values()))\n"
   ]
  },
  {
   "cell_type": "code",
   "execution_count": 103,
   "metadata": {},
   "outputs": [],
   "source": [
    "zephyr_tensor_map = get_safetensor_headers(ZEPHYR_REPO)\n",
    "\n",
    "assert len(set(zephyr_tensor_map.keys()).symmetric_difference(mistral_traces.keys())) == 0\n",
    "assert all(z['shape'] == m['shape'] for z,m in zip(zephyr_tensor_map.values(), mistral_tensor_map.values()))\n",
    "assert all(z['dtype'] == m['dtype'] for z,m in zip(zephyr_tensor_map.values(), mistral_tensor_map.values()))\n"
   ]
  },
  {
   "cell_type": "code",
   "execution_count": 104,
   "metadata": {},
   "outputs": [],
   "source": []
  }
 ],
 "metadata": {
  "kernelspec": {
   "display_name": "neurips",
   "language": "python",
   "name": "python3"
  },
  "language_info": {
   "codemirror_mode": {
    "name": "ipython",
    "version": 3
   },
   "file_extension": ".py",
   "mimetype": "text/x-python",
   "name": "python",
   "nbconvert_exporter": "python",
   "pygments_lexer": "ipython3",
   "version": "3.9.17"
  },
  "orig_nbformat": 4
 },
 "nbformat": 4,
 "nbformat_minor": 2
}
