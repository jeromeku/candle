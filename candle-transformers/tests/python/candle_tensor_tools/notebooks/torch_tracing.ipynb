{
 "cells": [
  {
   "cell_type": "code",
   "execution_count": 18,
   "metadata": {},
   "outputs": [
    {
     "name": "stdout",
     "output_type": "stream",
     "text": [
      "The autoreload extension is already loaded. To reload it, use:\n",
      "  %reload_ext autoreload\n"
     ]
    }
   ],
   "source": [
    "from IPython.core.interactiveshell import InteractiveShell\n",
    "InteractiveShell.ast_node_interactivity = 'all'\n",
    "\n",
    "import torch\n",
    "import torch.nn as nn\n",
    "from torch.nn import functional as F\n",
    "from torchinfo import summary\n",
    "\n",
    "%load_ext autoreload\n",
    "%autoreload 2\n"
   ]
  },
  {
   "cell_type": "code",
   "execution_count": 2,
   "metadata": {},
   "outputs": [],
   "source": [
    "\n",
    "class SingleInputNet(nn.Module):\n",
    "    \"\"\" Simple CNN model. \"\"\"\n",
    "    def __init__(self) -> None:\n",
    "        super().__init__()\n",
    "        self.conv1 = nn.Conv2d(1, 10, kernel_size=5)\n",
    "        self.conv2 = nn.Conv2d(10, 20, kernel_size=5)\n",
    "        self.conv2_drop = nn.Dropout2d(0.3)\n",
    "        self.fc1 = nn.Linear(320, 50)\n",
    "        self.fc2 = nn.Linear(50, 10)\n",
    "    def forward(self, x: torch.Tensor) -> torch.Tensor:\n",
    "        x = F.relu(F.max_pool2d(self.conv1(x), 2))\n",
    "        x = F.relu(F.max_pool2d(self.conv2_drop(self.conv2(x)), 2))\n",
    "        x = x.view(-1, 320)\n",
    "        x = F.relu(self.fc1(x))\n",
    "        x = self.fc2(x)\n",
    "        return F.log_softmax(x, dim=1)\n"
   ]
  },
  {
   "cell_type": "code",
   "execution_count": 4,
   "metadata": {},
   "outputs": [],
   "source": [
    "\n",
    "model = SingleInputNet()\n",
    "input_size = (2, 1, 28, 28)\n",
    "\n",
    "input_tensors = torch.randn(input_size, device=torch.device('cuda'))"
   ]
  },
  {
   "cell_type": "code",
   "execution_count": 7,
   "metadata": {},
   "outputs": [],
   "source": [
    "summary_list, stats = summary(model, input_size, verbose=3)\n"
   ]
  },
  {
   "cell_type": "code",
   "execution_count": 12,
   "metadata": {},
   "outputs": [],
   "source": [
    "s1 = summary_list[0]"
   ]
  },
  {
   "cell_type": "code",
   "execution_count": 14,
   "metadata": {},
   "outputs": [],
   "source": [
    "layer_props = [n for n in dir(summary_list[0]) if not n.startswith('__')]"
   ]
  },
  {
   "cell_type": "code",
   "execution_count": 15,
   "metadata": {},
   "outputs": [
    {
     "data": {
      "text/plain": [
       "['calculate_macs',\n",
       " 'calculate_num_params',\n",
       " 'calculate_size',\n",
       " 'check_recursive',\n",
       " 'children',\n",
       " 'class_name',\n",
       " 'contains_lazy_param',\n",
       " 'depth',\n",
       " 'depth_index',\n",
       " 'executed',\n",
       " 'get_kernel_size',\n",
       " 'get_layer_name',\n",
       " 'get_param_count',\n",
       " 'inner_layers',\n",
       " 'input_size',\n",
       " 'is_leaf_layer',\n",
       " 'is_recursive',\n",
       " 'kernel_size',\n",
       " 'layer_id',\n",
       " 'leftover_params',\n",
       " 'leftover_trainable_params',\n",
       " 'macs',\n",
       " 'macs_to_str',\n",
       " 'module',\n",
       " 'num_params',\n",
       " 'num_params_to_str',\n",
       " 'output_bytes',\n",
       " 'output_size',\n",
       " 'param_bytes',\n",
       " 'params_percent',\n",
       " 'parent_info',\n",
       " 'trainable',\n",
       " 'trainable_params',\n",
       " 'var_name']"
      ]
     },
     "execution_count": 15,
     "metadata": {},
     "output_type": "execute_result"
    }
   ],
   "source": [
    "layer_props"
   ]
  },
  {
   "cell_type": "code",
   "execution_count": 19,
   "metadata": {},
   "outputs": [
    {
     "name": "stdout",
     "output_type": "stream",
     "text": [
      "SingleInputNet(\n",
      "  (conv1): Conv2d(1, 10, kernel_size=(5, 5), stride=(1, 1))\n",
      "  (conv2): Conv2d(10, 20, kernel_size=(5, 5), stride=(1, 1))\n",
      "  (conv2_drop): Dropout2d(p=0.3, inplace=False)\n",
      "  (fc1): Linear(in_features=320, out_features=50, bias=True)\n",
      "  (fc2): Linear(in_features=50, out_features=10, bias=True)\n",
      ") SingleInputNet [Conv2d: 1, Conv2d: 1, Dropout2d: 1, Linear: 1, Linear: 1] False 21840 0 1 [2, 1, 28, 28] [2, 10]\n",
      "Conv2d(1, 10, kernel_size=(5, 5), stride=(1, 1)) Conv2d [] True 260 1 1 [2, 1, 28, 28] [2, 10, 24, 24]\n",
      "Conv2d(10, 20, kernel_size=(5, 5), stride=(1, 1)) Conv2d [] True 5020 1 2 [2, 10, 12, 12] [2, 20, 8, 8]\n",
      "Dropout2d(p=0.3, inplace=False) Dropout2d [] True 0 1 3 [2, 20, 8, 8] [2, 20, 8, 8]\n",
      "Linear(in_features=320, out_features=50, bias=True) Linear [] True 16050 1 4 [2, 320] [2, 50]\n",
      "Linear(in_features=50, out_features=10, bias=True) Linear [] True 510 1 5 [2, 50] [2, 10]\n"
     ]
    }
   ],
   "source": [
    "for layer in summary_list:\n",
    "    print(layer.module, layer.class_name, layer.children, layer.is_leaf_layer, layer.num_params, layer.depth, layer.depth_index, layer.input_size, layer.output_size)"
   ]
  },
  {
   "cell_type": "code",
   "execution_count": null,
   "metadata": {},
   "outputs": [],
   "source": []
  }
 ],
 "metadata": {
  "kernelspec": {
   "display_name": "neurips",
   "language": "python",
   "name": "python3"
  },
  "language_info": {
   "codemirror_mode": {
    "name": "ipython",
    "version": 3
   },
   "file_extension": ".py",
   "mimetype": "text/x-python",
   "name": "python",
   "nbconvert_exporter": "python",
   "pygments_lexer": "ipython3",
   "version": "3.9.17"
  },
  "orig_nbformat": 4
 },
 "nbformat": 4,
 "nbformat_minor": 2
}
